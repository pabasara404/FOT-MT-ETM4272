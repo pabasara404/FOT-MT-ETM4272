{
 "cells": [
  {
   "cell_type": "markdown",
   "metadata": {},
   "source": [
    "Take Home Assignment 3"
   ]
  },
  {
   "cell_type": "markdown",
   "metadata": {},
   "source": [
    "3.0 Install any dependencies if needed \n"
   ]
  },
  {
   "cell_type": "code",
   "execution_count": null,
   "metadata": {},
   "outputs": [],
   "source": [
    "!pip install supervision\n",
    "!pip install ultralytics"
   ]
  },
  {
   "cell_type": "code",
   "execution_count": 1,
   "metadata": {},
   "outputs": [],
   "source": [
    "from ultralytics import YOLO\n",
    "import cv2\n",
    "from matplotlib import pyplot as plt\n",
    "import numpy as np\n",
    "from PIL import Image\n",
    "import time\n",
    "import supervision as sv"
   ]
  },
  {
   "cell_type": "markdown",
   "metadata": {},
   "source": [
    "3.1.1 Draw the segmentation mask of the largest car: Use ultralytics library only"
   ]
  },
  {
   "cell_type": "code",
   "execution_count": null,
   "metadata": {},
   "outputs": [],
   "source": [
    "img = cv2.imread(\"demo5_images/cars1.jpg\")"
   ]
  },
  {
   "cell_type": "code",
   "execution_count": null,
   "metadata": {},
   "outputs": [],
   "source": [
    "# Run a segmentation model on the image \n",
    "\n",
    "# Iterate through the boxes in the results object \n",
    "    # For each box , obtain the coordinates of the box, evaluate area\n",
    "    # Find out the index of the box with the largest area\n",
    "\n",
    "# Draw the mask of the box with the largest area. "
   ]
  },
  {
   "cell_type": "markdown",
   "metadata": {},
   "source": [
    "3.1.2 Draw the segmentation mask of the largest car : Use ultralytics + supervision libraries"
   ]
  },
  {
   "cell_type": "code",
   "execution_count": null,
   "metadata": {},
   "outputs": [],
   "source": [
    "# Run a segmentation model on the image using ultralytics libraries & a model of your choice\n",
    "\n",
    "# Transfer ultralytics results to supervision\n",
    "\n",
    "# Iterate through the masks & find the largest\n",
    "\n",
    "# Display the largest mask"
   ]
  },
  {
   "cell_type": "markdown",
   "metadata": {},
   "source": [
    "3.2 Estimate distance to centroid of chair "
   ]
  },
  {
   "cell_type": "code",
   "execution_count": null,
   "metadata": {},
   "outputs": [],
   "source": [
    "# Detect the chair in the image  - A detection model of your choice can be used\n",
    "\n",
    "# Calculate the centroid of the chair - Access box coordinates from the detection model and calculate the centroid\n",
    "\n",
    "# Obtain the depth map - Depth Anything V2 can be used \n",
    "\n",
    "# Query the value of the depth map at the centroid's location"
   ]
  },
  {
   "cell_type": "markdown",
   "metadata": {},
   "source": [
    "3.3.1  Draw bounding boxes around the \"cars\" using supervision. "
   ]
  },
  {
   "cell_type": "code",
   "execution_count": null,
   "metadata": {},
   "outputs": [
    {
     "name": "stderr",
     "output_type": "stream",
     "text": [
      "Downloading...\n",
      "From: https://drive.google.com/uc?id=1zcKvnDDEdyFF4B0B3eYud6DHU19nl0o4\n",
      "To: d:\\01_FOT_USJP_TeachingMaterial\\06_MachineVisionSystems\\02_LectureDemonstrations_2024\\B5-Repo\\ETM4272\\video.mp4\n",
      "100%|██████████| 35.3M/35.3M [04:34<00:00, 129kB/s]\n"
     ]
    },
    {
     "data": {
      "text/plain": [
       "'video.mp4'"
      ]
     },
     "execution_count": 5,
     "metadata": {},
     "output_type": "execute_result"
    }
   ],
   "source": [
    "# Downloads the video file from the google drive link, you'll have to \"pip install gdown\" first\n",
    "import gdown\n",
    "\n",
    "file_id = \"1zcKvnDDEdyFF4B0B3eYud6DHU19nl0o4\"\n",
    "direct_url = f\"https://drive.google.com/uc?id={file_id}\"\n",
    "\n",
    "gdown.download(direct_url, \"vehicles_video.mp4\", quiet=False)"
   ]
  },
  {
   "cell_type": "code",
   "execution_count": null,
   "metadata": {},
   "outputs": [],
   "source": [
    "model = YOLO(\"yolo11n.pt\")\n",
    "\n",
    "\n",
    "def callback(frame: np.ndarray, _: int) -> np.ndarray:\n",
    "    # Complete this function\n",
    "\n",
    "sv.process_video(\n",
    "    source_path=\"vehicles_video.mp4\",\n",
    "    target_path=\"result_tracking.mp4\",\n",
    "    callback=callback\n",
    ")"
   ]
  },
  {
   "cell_type": "markdown",
   "metadata": {},
   "source": [
    "3.3.1 Track the cars. Add the tracker id to the bounding boxes around the cars. Use supervision"
   ]
  },
  {
   "cell_type": "code",
   "execution_count": null,
   "metadata": {},
   "outputs": [],
   "source": []
  },
  {
   "cell_type": "markdown",
   "metadata": {},
   "source": [
    "3.3.2 Draw the track traces for the tracked cars. Use supervision"
   ]
  },
  {
   "cell_type": "code",
   "execution_count": null,
   "metadata": {},
   "outputs": [],
   "source": []
  },
  {
   "cell_type": "markdown",
   "metadata": {},
   "source": [
    "Questions:\n",
    "\n",
    "Explain what \"def callback(frame: np.ndarray, _: int) -> np.ndarray:\" does. "
   ]
  },
  {
   "cell_type": "markdown",
   "metadata": {},
   "source": [
    "Answers: Complete this section"
   ]
  }
 ],
 "metadata": {
  "kernelspec": {
   "display_name": "Python 3",
   "language": "python",
   "name": "python3"
  },
  "language_info": {
   "codemirror_mode": {
    "name": "ipython",
    "version": 3
   },
   "file_extension": ".py",
   "mimetype": "text/x-python",
   "name": "python",
   "nbconvert_exporter": "python",
   "pygments_lexer": "ipython3",
   "version": "3.11.7"
  }
 },
 "nbformat": 4,
 "nbformat_minor": 2
}
